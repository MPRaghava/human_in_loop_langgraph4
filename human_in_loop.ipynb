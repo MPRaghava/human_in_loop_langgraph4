{
 "cells": [
  {
   "cell_type": "code",
   "execution_count": 14,
   "id": "3c4aadc8",
   "metadata": {},
   "outputs": [],
   "source": [
    "from langgraph.graph import Graph,MessagesState,StateGraph,END,START\n",
    "from langchain_core.messages import HumanMessage,SystemMessage\n",
    "from langgraph.prebuilt import tools_condition\n",
    "from langgraph.prebuilt import ToolNode\n",
    "\n",
    "from IPython.display import Image,display\n",
    "from typing import TypedDict,Annotated,Sequence\n",
    "import operator,json\n",
    "from langchain_core.messages import BaseMessage\n",
    "from langgraph.graph.message import add_messages\n",
    "from langchain_community.tools import DuckDuckGoSearchRun\n",
    "from langchain.tools import tool\n",
    "from langchain_community.tools.tavily_search import TavilySearchResults"
   ]
  },
  {
   "cell_type": "code",
   "execution_count": 4,
   "id": "67043e49",
   "metadata": {},
   "outputs": [],
   "source": [
    "from langchain_groq import ChatGroq\n",
    "import os\n",
    "from dotenv import load_dotenv\n",
    "\n",
    "load_dotenv()\n",
    "\n",
    "groq_key = os.getenv(\"groq_api_key\")\n",
    "llm = ChatGroq(model_name =\"gemma2-9b-it\", api_key=groq_key)\n"
   ]
  },
  {
   "cell_type": "code",
   "execution_count": 5,
   "id": "620de42d",
   "metadata": {},
   "outputs": [
    {
     "data": {
      "text/plain": [
       "AIMessage(content='Hello! 👋  How can I help you today? 😊\\n', additional_kwargs={}, response_metadata={'token_usage': {'completion_tokens': 15, 'prompt_tokens': 11, 'total_tokens': 26, 'completion_time': 0.027272727, 'prompt_time': 0.001899597, 'queue_time': 0.24918127199999998, 'total_time': 0.029172324}, 'model_name': 'gemma2-9b-it', 'system_fingerprint': 'fp_10c08bf97d', 'finish_reason': 'stop', 'logprobs': None}, id='run--7725c519-4ca7-4788-af14-1d4c05790082-0', usage_metadata={'input_tokens': 11, 'output_tokens': 15, 'total_tokens': 26})"
      ]
     },
     "execution_count": 5,
     "metadata": {},
     "output_type": "execute_result"
    }
   ],
   "source": [
    "llm.invoke(\"hi\")"
   ]
  },
  {
   "cell_type": "code",
   "execution_count": 7,
   "id": "2c7e8fd5",
   "metadata": {},
   "outputs": [],
   "source": [
    "@tool\n",
    "def multiply(first_number: int, second_number : int)->int:\n",
    "    \"\"\" Multiply two integers\"\"\"\n",
    "    return first_number * second_number\n"
   ]
  },
  {
   "cell_type": "code",
   "execution_count": 13,
   "id": "b6ac45e5",
   "metadata": {},
   "outputs": [],
   "source": [
    "# multiply({\"first_number\":12,\"second_number\":2})\n",
    "# multiply.invoke({\"first_number\":12,\"second_number\":3})"
   ]
  },
  {
   "cell_type": "code",
   "execution_count": null,
   "id": "28beef5c",
   "metadata": {},
   "outputs": [],
   "source": [
    "# @tool\n",
    "# def search(query:str):\n",
    "#     \"\"\"Perform the web search on the user query\"\"\"\n",
    "#     tavily = TavilySearchResults()\n",
    "#     result = tavily.invoke(query)\n",
    "#     return result"
   ]
  },
  {
   "cell_type": "code",
   "execution_count": 19,
   "id": "7c28eac4",
   "metadata": {},
   "outputs": [],
   "source": [
    "@tool\n",
    "def search(query:str):\n",
    "    \"\"\" Search web based on the user query\"\"\"\n",
    "    dgdgs = DuckDuckGoSearchRun()\n",
    "    result = dgdgs.invoke(query)\n",
    "    return result\n"
   ]
  },
  {
   "cell_type": "code",
   "execution_count": 22,
   "id": "7b0feddf",
   "metadata": {},
   "outputs": [],
   "source": [
    "# search(\"who is the current president of the USA?\")"
   ]
  },
  {
   "cell_type": "code",
   "execution_count": 23,
   "id": "4a34225b",
   "metadata": {},
   "outputs": [],
   "source": [
    "tools = [search,multiply]"
   ]
  },
  {
   "cell_type": "markdown",
   "id": "1cfebf65",
   "metadata": {},
   "source": [
    "<!-- retrieving function names and arguments for tool name and question -->"
   ]
  },
  {
   "cell_type": "code",
   "execution_count": 25,
   "id": "be46cba0",
   "metadata": {},
   "outputs": [],
   "source": [
    "model_with_tools = llm.bind_tools(tools)"
   ]
  },
  {
   "cell_type": "code",
   "execution_count": 48,
   "id": "be88cf83",
   "metadata": {},
   "outputs": [],
   "source": [
    "tool_mapping = {tool.name :tool for tool in tools}\n"
   ]
  },
  {
   "cell_type": "code",
   "execution_count": 49,
   "id": "8380d8c7",
   "metadata": {},
   "outputs": [
    {
     "data": {
      "text/plain": [
       "{'search': StructuredTool(name='search', description='Search web based on the user query', args_schema=<class 'langchain_core.utils.pydantic.search'>, func=<function search at 0x0000022F3084F420>),\n",
       " 'multiply': StructuredTool(name='multiply', description='Multiply two integers', args_schema=<class 'langchain_core.utils.pydantic.multiply'>, func=<function multiply at 0x0000022F2E6199E0>)}"
      ]
     },
     "execution_count": 49,
     "metadata": {},
     "output_type": "execute_result"
    }
   ],
   "source": [
    "tool_mapping"
   ]
  },
  {
   "cell_type": "code",
   "execution_count": 51,
   "id": "027aadc3",
   "metadata": {},
   "outputs": [],
   "source": [
    "response = model_with_tools.invoke(\"who is Indian current  prime minister?\")"
   ]
  },
  {
   "cell_type": "code",
   "execution_count": 52,
   "id": "b726acc1",
   "metadata": {},
   "outputs": [],
   "source": [
    "tool_details = response.additional_kwargs.get(\"tool_calls\")"
   ]
  },
  {
   "cell_type": "code",
   "execution_count": 53,
   "id": "e36b3ca8",
   "metadata": {},
   "outputs": [
    {
     "data": {
      "text/plain": [
       "[{'id': 'call_esea',\n",
       "  'function': {'arguments': '{\"query\":\"who is the current prime minister of India\"}',\n",
       "   'name': 'search'},\n",
       "  'type': 'function'}]"
      ]
     },
     "execution_count": 53,
     "metadata": {},
     "output_type": "execute_result"
    }
   ],
   "source": [
    "tool_details"
   ]
  },
  {
   "cell_type": "code",
   "execution_count": null,
   "id": "778c99c5",
   "metadata": {},
   "outputs": [
    {
     "data": {
      "text/plain": [
       "'search'"
      ]
     },
     "execution_count": 54,
     "metadata": {},
     "output_type": "execute_result"
    }
   ],
   "source": [
    "# Extract the tool details : function_name(tool_name) and arguments(question) \n",
    "tool_details[0][\"function\"][\"name\"]"
   ]
  },
  {
   "cell_type": "code",
   "execution_count": 56,
   "id": "c232ad02",
   "metadata": {},
   "outputs": [
    {
     "data": {
      "text/plain": [
       "'{\"query\":\"who is the current prime minister of India\"}'"
      ]
     },
     "execution_count": 56,
     "metadata": {},
     "output_type": "execute_result"
    }
   ],
   "source": [
    "tool_details[0][\"function\"][\"arguments\"]"
   ]
  },
  {
   "cell_type": "code",
   "execution_count": 26,
   "id": "81b66007",
   "metadata": {},
   "outputs": [],
   "source": [
    "class AgentState(TypedDict):\n",
    "    message: Annotated[Sequence[BaseMessage],operator.add]"
   ]
  },
  {
   "cell_type": "code",
   "execution_count": 27,
   "id": "57461951",
   "metadata": {},
   "outputs": [],
   "source": [
    "def invoke_model(state:AgentState):\n",
    "    messages = state[\"messages\"]\n",
    "    question = messages[-1] ## fetching the usr question\n",
    "    return {\"messages\":[model_with_tools.invoke(question)]}"
   ]
  },
  {
   "cell_type": "code",
   "execution_count": 28,
   "id": "3a6d6a97",
   "metadata": {},
   "outputs": [],
   "source": [
    "def invoke_tool(state: AgentState):\n",
    "    pass\n"
   ]
  },
  {
   "cell_type": "code",
   "execution_count": 29,
   "id": "a1997737",
   "metadata": {},
   "outputs": [],
   "source": [
    "def router(state):\n",
    "    tool_calls = state['messages'][-1].additional_kwargs.get(\"tool_calls\",[])\n",
    "    if len(tool_calls):\n",
    "        return \"tool\"\n",
    "    else:\n",
    "        return \"end\""
   ]
  },
  {
   "cell_type": "code",
   "execution_count": 45,
   "id": "09a9bd14",
   "metadata": {},
   "outputs": [
    {
     "data": {
      "text/plain": [
       "<langgraph.graph.state.StateGraph at 0x22f30f24d10>"
      ]
     },
     "execution_count": 45,
     "metadata": {},
     "output_type": "execute_result"
    }
   ],
   "source": [
    "graph = StateGraph(AgentState)\n",
    "\n",
    "graph.add_node(\"ai_assistant\",invoke_model)\n",
    "graph.add_node(\"tool\",invoke_tool)"
   ]
  },
  {
   "cell_type": "code",
   "execution_count": 46,
   "id": "73b4450e",
   "metadata": {},
   "outputs": [
    {
     "data": {
      "text/plain": [
       "<langgraph.graph.state.StateGraph at 0x22f30f24d10>"
      ]
     },
     "execution_count": 46,
     "metadata": {},
     "output_type": "execute_result"
    }
   ],
   "source": [
    "graph.add_conditional_edges(\"ai_assistant\",router,{\"tool\":tool,\"end\":END,})\n",
    "graph.add_edge(\"tool\",END)\n",
    "graph.set_entry_point(\"ai_assistant\")"
   ]
  },
  {
   "cell_type": "code",
   "execution_count": 1,
   "id": "2a7d2d57",
   "metadata": {},
   "outputs": [],
   "source": [
    "# graph.compile()"
   ]
  }
 ],
 "metadata": {
  "kernelspec": {
   "display_name": ".venv",
   "language": "python",
   "name": "python3"
  },
  "language_info": {
   "codemirror_mode": {
    "name": "ipython",
    "version": 3
   },
   "file_extension": ".py",
   "mimetype": "text/x-python",
   "name": "python",
   "nbconvert_exporter": "python",
   "pygments_lexer": "ipython3",
   "version": "3.11.7"
  }
 },
 "nbformat": 4,
 "nbformat_minor": 5
}
